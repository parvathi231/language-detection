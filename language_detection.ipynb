{
  "nbformat": 4,
  "nbformat_minor": 0,
  "metadata": {
    "colab": {
      "name": "language detection.ipynb",
      "provenance": [],
      "collapsed_sections": [],
      "authorship_tag": "ABX9TyOanav/xkvuLrLrp0XAVweR",
      "include_colab_link": true
    },
    "kernelspec": {
      "name": "python3",
      "display_name": "Python 3"
    },
    "language_info": {
      "name": "python"
    }
  },
  "cells": [
    {
      "cell_type": "markdown",
      "metadata": {
        "id": "view-in-github",
        "colab_type": "text"
      },
      "source": [
        "<a href=\"https://colab.research.google.com/github/parvathi231/language-detection/blob/main/language_detection.ipynb\" target=\"_parent\"><img src=\"https://colab.research.google.com/assets/colab-badge.svg\" alt=\"Open In Colab\"/></a>"
      ]
    },
    {
      "cell_type": "code",
      "metadata": {
        "colab": {
          "base_uri": "https://localhost:8080/"
        },
        "id": "KBhFxjHNOP88",
        "outputId": "2b13715e-8b9f-471d-c0dd-022ba4e6863d"
      },
      "source": [
        "pip install langdetect\n"
      ],
      "execution_count": null,
      "outputs": [
        {
          "output_type": "stream",
          "text": [
            "Collecting langdetect\n",
            "\u001b[?25l  Downloading https://files.pythonhosted.org/packages/0e/72/a3add0e4eec4eb9e2569554f7c70f4a3c27712f40e3284d483e88094cc0e/langdetect-1.0.9.tar.gz (981kB)\n",
            "\r\u001b[K     |▍                               | 10kB 15.2MB/s eta 0:00:01\r\u001b[K     |▊                               | 20kB 20.9MB/s eta 0:00:01\r\u001b[K     |█                               | 30kB 19.1MB/s eta 0:00:01\r\u001b[K     |█▍                              | 40kB 16.0MB/s eta 0:00:01\r\u001b[K     |█▊                              | 51kB 8.2MB/s eta 0:00:01\r\u001b[K     |██                              | 61kB 7.0MB/s eta 0:00:01\r\u001b[K     |██▍                             | 71kB 7.8MB/s eta 0:00:01\r\u001b[K     |██▊                             | 81kB 8.5MB/s eta 0:00:01\r\u001b[K     |███                             | 92kB 9.3MB/s eta 0:00:01\r\u001b[K     |███▍                            | 102kB 7.8MB/s eta 0:00:01\r\u001b[K     |███▊                            | 112kB 7.8MB/s eta 0:00:01\r\u001b[K     |████                            | 122kB 7.8MB/s eta 0:00:01\r\u001b[K     |████▍                           | 133kB 7.8MB/s eta 0:00:01\r\u001b[K     |████▊                           | 143kB 7.8MB/s eta 0:00:01\r\u001b[K     |█████                           | 153kB 7.8MB/s eta 0:00:01\r\u001b[K     |█████▍                          | 163kB 7.8MB/s eta 0:00:01\r\u001b[K     |█████▊                          | 174kB 7.8MB/s eta 0:00:01\r\u001b[K     |██████                          | 184kB 7.8MB/s eta 0:00:01\r\u001b[K     |██████▍                         | 194kB 7.8MB/s eta 0:00:01\r\u001b[K     |██████▊                         | 204kB 7.8MB/s eta 0:00:01\r\u001b[K     |███████                         | 215kB 7.8MB/s eta 0:00:01\r\u001b[K     |███████▍                        | 225kB 7.8MB/s eta 0:00:01\r\u001b[K     |███████▊                        | 235kB 7.8MB/s eta 0:00:01\r\u001b[K     |████████                        | 245kB 7.8MB/s eta 0:00:01\r\u001b[K     |████████▍                       | 256kB 7.8MB/s eta 0:00:01\r\u001b[K     |████████▊                       | 266kB 7.8MB/s eta 0:00:01\r\u001b[K     |█████████                       | 276kB 7.8MB/s eta 0:00:01\r\u001b[K     |█████████▍                      | 286kB 7.8MB/s eta 0:00:01\r\u001b[K     |█████████▊                      | 296kB 7.8MB/s eta 0:00:01\r\u001b[K     |██████████                      | 307kB 7.8MB/s eta 0:00:01\r\u001b[K     |██████████▍                     | 317kB 7.8MB/s eta 0:00:01\r\u001b[K     |██████████▊                     | 327kB 7.8MB/s eta 0:00:01\r\u001b[K     |███████████                     | 337kB 7.8MB/s eta 0:00:01\r\u001b[K     |███████████▍                    | 348kB 7.8MB/s eta 0:00:01\r\u001b[K     |███████████▊                    | 358kB 7.8MB/s eta 0:00:01\r\u001b[K     |████████████                    | 368kB 7.8MB/s eta 0:00:01\r\u001b[K     |████████████▍                   | 378kB 7.8MB/s eta 0:00:01\r\u001b[K     |████████████▊                   | 389kB 7.8MB/s eta 0:00:01\r\u001b[K     |█████████████                   | 399kB 7.8MB/s eta 0:00:01\r\u001b[K     |█████████████▍                  | 409kB 7.8MB/s eta 0:00:01\r\u001b[K     |█████████████▊                  | 419kB 7.8MB/s eta 0:00:01\r\u001b[K     |██████████████                  | 430kB 7.8MB/s eta 0:00:01\r\u001b[K     |██████████████▍                 | 440kB 7.8MB/s eta 0:00:01\r\u001b[K     |██████████████▊                 | 450kB 7.8MB/s eta 0:00:01\r\u001b[K     |███████████████                 | 460kB 7.8MB/s eta 0:00:01\r\u001b[K     |███████████████▍                | 471kB 7.8MB/s eta 0:00:01\r\u001b[K     |███████████████▊                | 481kB 7.8MB/s eta 0:00:01\r\u001b[K     |████████████████                | 491kB 7.8MB/s eta 0:00:01\r\u001b[K     |████████████████▍               | 501kB 7.8MB/s eta 0:00:01\r\u001b[K     |████████████████▊               | 512kB 7.8MB/s eta 0:00:01\r\u001b[K     |█████████████████               | 522kB 7.8MB/s eta 0:00:01\r\u001b[K     |█████████████████▍              | 532kB 7.8MB/s eta 0:00:01\r\u001b[K     |█████████████████▊              | 542kB 7.8MB/s eta 0:00:01\r\u001b[K     |██████████████████              | 552kB 7.8MB/s eta 0:00:01\r\u001b[K     |██████████████████▍             | 563kB 7.8MB/s eta 0:00:01\r\u001b[K     |██████████████████▊             | 573kB 7.8MB/s eta 0:00:01\r\u001b[K     |███████████████████             | 583kB 7.8MB/s eta 0:00:01\r\u001b[K     |███████████████████▍            | 593kB 7.8MB/s eta 0:00:01\r\u001b[K     |███████████████████▊            | 604kB 7.8MB/s eta 0:00:01\r\u001b[K     |████████████████████            | 614kB 7.8MB/s eta 0:00:01\r\u001b[K     |████████████████████▍           | 624kB 7.8MB/s eta 0:00:01\r\u001b[K     |████████████████████▊           | 634kB 7.8MB/s eta 0:00:01\r\u001b[K     |█████████████████████           | 645kB 7.8MB/s eta 0:00:01\r\u001b[K     |█████████████████████▍          | 655kB 7.8MB/s eta 0:00:01\r\u001b[K     |█████████████████████▊          | 665kB 7.8MB/s eta 0:00:01\r\u001b[K     |██████████████████████          | 675kB 7.8MB/s eta 0:00:01\r\u001b[K     |██████████████████████▍         | 686kB 7.8MB/s eta 0:00:01\r\u001b[K     |██████████████████████▊         | 696kB 7.8MB/s eta 0:00:01\r\u001b[K     |███████████████████████         | 706kB 7.8MB/s eta 0:00:01\r\u001b[K     |███████████████████████▍        | 716kB 7.8MB/s eta 0:00:01\r\u001b[K     |███████████████████████▊        | 727kB 7.8MB/s eta 0:00:01\r\u001b[K     |████████████████████████        | 737kB 7.8MB/s eta 0:00:01\r\u001b[K     |████████████████████████▍       | 747kB 7.8MB/s eta 0:00:01\r\u001b[K     |████████████████████████▊       | 757kB 7.8MB/s eta 0:00:01\r\u001b[K     |█████████████████████████       | 768kB 7.8MB/s eta 0:00:01\r\u001b[K     |█████████████████████████▍      | 778kB 7.8MB/s eta 0:00:01\r\u001b[K     |█████████████████████████▊      | 788kB 7.8MB/s eta 0:00:01\r\u001b[K     |██████████████████████████      | 798kB 7.8MB/s eta 0:00:01\r\u001b[K     |██████████████████████████▍     | 808kB 7.8MB/s eta 0:00:01\r\u001b[K     |██████████████████████████▊     | 819kB 7.8MB/s eta 0:00:01\r\u001b[K     |███████████████████████████     | 829kB 7.8MB/s eta 0:00:01\r\u001b[K     |███████████████████████████▍    | 839kB 7.8MB/s eta 0:00:01\r\u001b[K     |███████████████████████████▊    | 849kB 7.8MB/s eta 0:00:01\r\u001b[K     |████████████████████████████    | 860kB 7.8MB/s eta 0:00:01\r\u001b[K     |████████████████████████████▍   | 870kB 7.8MB/s eta 0:00:01\r\u001b[K     |████████████████████████████▊   | 880kB 7.8MB/s eta 0:00:01\r\u001b[K     |█████████████████████████████   | 890kB 7.8MB/s eta 0:00:01\r\u001b[K     |█████████████████████████████▍  | 901kB 7.8MB/s eta 0:00:01\r\u001b[K     |█████████████████████████████▊  | 911kB 7.8MB/s eta 0:00:01\r\u001b[K     |██████████████████████████████  | 921kB 7.8MB/s eta 0:00:01\r\u001b[K     |██████████████████████████████▍ | 931kB 7.8MB/s eta 0:00:01\r\u001b[K     |██████████████████████████████▊ | 942kB 7.8MB/s eta 0:00:01\r\u001b[K     |███████████████████████████████ | 952kB 7.8MB/s eta 0:00:01\r\u001b[K     |███████████████████████████████▍| 962kB 7.8MB/s eta 0:00:01\r\u001b[K     |███████████████████████████████▊| 972kB 7.8MB/s eta 0:00:01\r\u001b[K     |████████████████████████████████| 983kB 7.8MB/s \n",
            "\u001b[?25hRequirement already satisfied: six in /usr/local/lib/python3.7/dist-packages (from langdetect) (1.15.0)\n",
            "Building wheels for collected packages: langdetect\n",
            "  Building wheel for langdetect (setup.py) ... \u001b[?25l\u001b[?25hdone\n",
            "  Created wheel for langdetect: filename=langdetect-1.0.9-cp37-none-any.whl size=993242 sha256=21bcb554cac29fc7db1313ee8d3a810c1df69d65023ecdc3e35472b62501675c\n",
            "  Stored in directory: /root/.cache/pip/wheels/7e/18/13/038c34057808931c7ddc6c92d3aa015cf1a498df5a70268996\n",
            "Successfully built langdetect\n",
            "Installing collected packages: langdetect\n",
            "Successfully installed langdetect-1.0.9\n"
          ],
          "name": "stdout"
        }
      ]
    },
    {
      "cell_type": "code",
      "metadata": {
        "id": "2TKFXxpQQVD6"
      },
      "source": [
        "import langdetect"
      ],
      "execution_count": null,
      "outputs": []
    },
    {
      "cell_type": "code",
      "metadata": {
        "id": "E1GXaF6tOwGL"
      },
      "source": [
        "from langdetect import detect"
      ],
      "execution_count": null,
      "outputs": []
    },
    {
      "cell_type": "code",
      "metadata": {
        "colab": {
          "base_uri": "https://localhost:8080/",
          "height": 35
        },
        "id": "EE8VHNguPKRk",
        "outputId": "560b9996-b9cf-4e6c-a40d-067c7f30e2b6"
      },
      "source": [
        "detect(\"good morning\")"
      ],
      "execution_count": null,
      "outputs": [
        {
          "output_type": "execute_result",
          "data": {
            "application/vnd.google.colaboratory.intrinsic+json": {
              "type": "string"
            },
            "text/plain": [
              "'hr'"
            ]
          },
          "metadata": {
            "tags": []
          },
          "execution_count": 23
        }
      ]
    },
    {
      "cell_type": "code",
      "metadata": {
        "colab": {
          "base_uri": "https://localhost:8080/",
          "height": 35
        },
        "id": "yBRUYq3qRAHU",
        "outputId": "a7dd0846-38d4-4114-aad4-9fbd5ccc06b6"
      },
      "source": [
        "detect(\"காலை வணக்கம்\")"
      ],
      "execution_count": null,
      "outputs": [
        {
          "output_type": "execute_result",
          "data": {
            "application/vnd.google.colaboratory.intrinsic+json": {
              "type": "string"
            },
            "text/plain": [
              "'ta'"
            ]
          },
          "metadata": {
            "tags": []
          },
          "execution_count": 22
        }
      ]
    },
    {
      "cell_type": "code",
      "metadata": {
        "id": "fxzikfIIPyGO"
      },
      "source": [
        "from langdetect import detect_langs"
      ],
      "execution_count": null,
      "outputs": []
    },
    {
      "cell_type": "code",
      "metadata": {
        "colab": {
          "base_uri": "https://localhost:8080/"
        },
        "id": "BBI9pl6IQzKx",
        "outputId": "9f6b548d-96de-4d7e-cf60-96bf60721af6"
      },
      "source": [
        "detect_langs(\"hi people\")"
      ],
      "execution_count": null,
      "outputs": [
        {
          "output_type": "execute_result",
          "data": {
            "text/plain": [
              "[en:0.9999966713898731]"
            ]
          },
          "metadata": {
            "tags": []
          },
          "execution_count": 19
        }
      ]
    },
    {
      "cell_type": "code",
      "metadata": {
        "colab": {
          "base_uri": "https://localhost:8080/"
        },
        "id": "yhuredSzRqSQ",
        "outputId": "3da8339c-8a8a-471e-ccbc-5360c554fdaf"
      },
      "source": [
        "detect_langs(\"காலை வணக்கம்\")"
      ],
      "execution_count": null,
      "outputs": [
        {
          "output_type": "execute_result",
          "data": {
            "text/plain": [
              "[ta:0.9999999998501904]"
            ]
          },
          "metadata": {
            "tags": []
          },
          "execution_count": 24
        }
      ]
    }
  ]
}